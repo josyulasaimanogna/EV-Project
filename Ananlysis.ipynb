{
  "nbformat": 4,
  "nbformat_minor": 0,
  "metadata": {
    "colab": {
      "provenance": []
    },
    "kernelspec": {
      "name": "python3",
      "display_name": "Python 3"
    },
    "language_info": {
      "name": "python"
    }
  },
  "cells": [
    {
      "cell_type": "code",
      "execution_count": 5,
      "metadata": {
        "id": "NJ1E06y-wGvU"
      },
      "outputs": [],
      "source": [
        "import pandas as pd\n",
        "\n",
        "# Load the dataset\n",
        "df = pd.read_csv('/content/ev-charging-stations-india.csv')"
      ]
    },
    {
      "cell_type": "code",
      "source": [
        "# Convert the 'lattitude' column to numeric, coercing errors to NaN\n",
        "df['lattitude'] = pd.to_numeric(df['lattitude'], errors='coerce')\n",
        "\n",
        "# Check for missing values across the dataset\n",
        "missing_values = df.isnull().sum()\n",
        "\n",
        "missing_values"
      ],
      "metadata": {
        "colab": {
          "base_uri": "https://localhost:8080/",
          "height": 303
        },
        "id": "VnADTK-DwRRf",
        "outputId": "17d03850-986b-456e-e031-5b40da12177c"
      },
      "execution_count": 7,
      "outputs": [
        {
          "output_type": "execute_result",
          "data": {
            "text/plain": [
              "name          0\n",
              "state         0\n",
              "city          0\n",
              "address      40\n",
              "lattitude     8\n",
              "longitude     6\n",
              "type          8\n",
              "dtype: int64"
            ],
            "text/html": [
              "<div>\n",
              "<style scoped>\n",
              "    .dataframe tbody tr th:only-of-type {\n",
              "        vertical-align: middle;\n",
              "    }\n",
              "\n",
              "    .dataframe tbody tr th {\n",
              "        vertical-align: top;\n",
              "    }\n",
              "\n",
              "    .dataframe thead th {\n",
              "        text-align: right;\n",
              "    }\n",
              "</style>\n",
              "<table border=\"1\" class=\"dataframe\">\n",
              "  <thead>\n",
              "    <tr style=\"text-align: right;\">\n",
              "      <th></th>\n",
              "      <th>0</th>\n",
              "    </tr>\n",
              "  </thead>\n",
              "  <tbody>\n",
              "    <tr>\n",
              "      <th>name</th>\n",
              "      <td>0</td>\n",
              "    </tr>\n",
              "    <tr>\n",
              "      <th>state</th>\n",
              "      <td>0</td>\n",
              "    </tr>\n",
              "    <tr>\n",
              "      <th>city</th>\n",
              "      <td>0</td>\n",
              "    </tr>\n",
              "    <tr>\n",
              "      <th>address</th>\n",
              "      <td>40</td>\n",
              "    </tr>\n",
              "    <tr>\n",
              "      <th>lattitude</th>\n",
              "      <td>8</td>\n",
              "    </tr>\n",
              "    <tr>\n",
              "      <th>longitude</th>\n",
              "      <td>6</td>\n",
              "    </tr>\n",
              "    <tr>\n",
              "      <th>type</th>\n",
              "      <td>8</td>\n",
              "    </tr>\n",
              "  </tbody>\n",
              "</table>\n",
              "</div><br><label><b>dtype:</b> int64</label>"
            ]
          },
          "metadata": {},
          "execution_count": 7
        }
      ]
    },
    {
      "cell_type": "code",
      "source": [
        "df['lattitude']= df['lattitude'].fillna(df['lattitude'].mean())"
      ],
      "metadata": {
        "id": "8CK-SaFfwuPu"
      },
      "execution_count": 8,
      "outputs": []
    },
    {
      "cell_type": "code",
      "source": [
        "# Drop rows where 'lattitude' or 'longitude' are missing\n",
        "#df_cleaned = df.dropna(subset=['lattitude', 'longitude'])\n",
        "\n",
        "# Fill missing 'type' values with the most common type\n",
        "most_common_type = df_cleaned['type'].mode()[0]\n",
        "df_cleaned['type'].fillna(most_common_type, inplace=True)\n",
        "\n",
        "# Drop rows where 'address' is missing since it might not be critical for analysis\n",
        "df_cleaned = df_cleaned.dropna(subset=['address'])\n",
        "\n",
        "# Final check after cleaning\n",
        "cleaned_info = df_cleaned.info(), df_cleaned.describe(), missing_values, df_cleaned.head()\n",
        "\n",
        "# Display the cleaned dataset information\n",
        "cleaned_info\n"
      ],
      "metadata": {
        "colab": {
          "base_uri": "https://localhost:8080/"
        },
        "id": "8feaJV_lwbPT",
        "outputId": "2c15a709-df9a-441d-b66c-9b8bd4fca9a4"
      },
      "execution_count": 9,
      "outputs": [
        {
          "output_type": "stream",
          "name": "stdout",
          "text": [
            "<class 'pandas.core.frame.DataFrame'>\n",
            "Index: 1499 entries, 0 to 1546\n",
            "Data columns (total 7 columns):\n",
            " #   Column     Non-Null Count  Dtype  \n",
            "---  ------     --------------  -----  \n",
            " 0   name       1499 non-null   object \n",
            " 1   state      1499 non-null   object \n",
            " 2   city       1499 non-null   object \n",
            " 3   address    1499 non-null   object \n",
            " 4   lattitude  1499 non-null   float64\n",
            " 5   longitude  1499 non-null   float64\n",
            " 6   type       1499 non-null   float64\n",
            "dtypes: float64(3), object(4)\n",
            "memory usage: 93.7+ KB\n"
          ]
        },
        {
          "output_type": "execute_result",
          "data": {
            "text/plain": [
              "(None,\n",
              "          lattitude     longitude         type\n",
              " count  1499.000000  1.499000e+03  1499.000000\n",
              " mean     19.891881  1.136271e+05     8.939960\n",
              " std       6.965532  3.107610e+06     4.150104\n",
              " min       8.390198  8.058454e+00     6.000000\n",
              " 25%      13.033336  7.576905e+01     7.000000\n",
              " 50%      19.095269  7.721740e+01     7.000000\n",
              " 75%      26.868217  7.854488e+01    10.000000\n",
              " max      77.597289  8.510551e+07    24.000000,\n",
              " name          0\n",
              " state         0\n",
              " city          0\n",
              " address      40\n",
              " lattitude     8\n",
              " longitude     6\n",
              " type          8\n",
              " dtype: int64,\n",
              "                                                 name          state      city  \\\n",
              " 0                 Neelkanth Star DC Charging Station        Haryana  Gurugram   \n",
              " 1                       Galleria DC Charging Station        Haryana  Gurugram   \n",
              " 2  Highway Xpress (Jaipur-Delhi) DC charging station      Rajasthan    Behror   \n",
              " 3                  Food Carnival DC Charging Station  Uttar Pradesh  Khatauli   \n",
              " 4                  Food Carnival AC Charging Station  Uttar Pradesh  Khatauli   \n",
              " \n",
              "                                              address  lattitude  longitude  \\\n",
              " 0  Neelkanth Star Karnal, NH 44, Gharunda, Kutail...    29.6019    76.9803   \n",
              " 1  DLF Phase IV, Sector 28, Gurugram, Haryana 122022    28.4673    77.0818   \n",
              " 2  Jaipur to Delhi Road, Behror Midway, Behror, R...    27.8751    76.2760   \n",
              " 3  Fun and Food Carnival, NH 58, Khatauli Bypass,...    29.3105    77.7218   \n",
              " 4  NH 58, Khatauli Bypass, Bhainsi, Uttar Pradesh...    29.3105    77.7218   \n",
              " \n",
              "    type  \n",
              " 0  12.0  \n",
              " 1  12.0  \n",
              " 2  12.0  \n",
              " 3  12.0  \n",
              " 4  12.0  )"
            ]
          },
          "metadata": {},
          "execution_count": 9
        }
      ]
    },
    {
      "cell_type": "code",
      "source": [
        "import numpy as np\n",
        "from sklearn.model_selection import train_test_split\n",
        "from sklearn.preprocessing import OneHotEncoder\n",
        "from sklearn.ensemble import RandomForestClassifier\n",
        "from sklearn.metrics import accuracy_score, classification_report, confusion_matrix\n",
        "\n",
        "\n",
        "\n",
        "# Feature Selection\n",
        "X = df_cleaned[['lattitude', 'longitude', 'city', 'state']]\n",
        "y = df_cleaned['type']\n",
        "\n"
      ],
      "metadata": {
        "id": "86kzpqzKxN48"
      },
      "execution_count": 10,
      "outputs": []
    },
    {
      "cell_type": "code",
      "source": [
        "# One-hot encode categorical variables (city, state)\n",
        "encoder = OneHotEncoder(drop='first', sparse=False)\n",
        "X_encoded = encoder.fit_transform(X[['city', 'state']])\n",
        "\n",
        "# Combine encoded features with numeric features (lattitude, longitude)\n",
        "X_combined = np.hstack((X[['lattitude', 'longitude']].values, X_encoded))\n",
        "\n",
        "X_combined"
      ],
      "metadata": {
        "colab": {
          "base_uri": "https://localhost:8080/"
        },
        "id": "E6pbNkJXx5Ky",
        "outputId": "8f764b4b-e6b8-4d9d-d10f-80509b600ad6"
      },
      "execution_count": 11,
      "outputs": [
        {
          "output_type": "stream",
          "name": "stderr",
          "text": [
            "/usr/local/lib/python3.10/dist-packages/sklearn/preprocessing/_encoders.py:975: FutureWarning: `sparse` was renamed to `sparse_output` in version 1.2 and will be removed in 1.4. `sparse_output` is ignored unless you leave `sparse` to its default value.\n",
            "  warnings.warn(\n"
          ]
        },
        {
          "output_type": "execute_result",
          "data": {
            "text/plain": [
              "array([[29.6019   , 76.9803   ,  0.       , ...,  0.       ,  0.       ,\n",
              "         0.       ],\n",
              "       [28.4673   , 77.0818   ,  0.       , ...,  0.       ,  0.       ,\n",
              "         0.       ],\n",
              "       [27.8751   , 76.276    ,  0.       , ...,  0.       ,  0.       ,\n",
              "         0.       ],\n",
              "       ...,\n",
              "       [28.411072 , 77.040546 ,  0.       , ...,  0.       ,  0.       ,\n",
              "         0.       ],\n",
              "       [32.7064117, 74.8792033,  0.       , ...,  0.       ,  0.       ,\n",
              "         0.       ],\n",
              "       [12.885716 , 74.843476 ,  0.       , ...,  0.       ,  0.       ,\n",
              "         0.       ]])"
            ]
          },
          "metadata": {},
          "execution_count": 11
        }
      ]
    },
    {
      "cell_type": "code",
      "source": [
        "# Split the dataset into training and testing sets\n",
        "X_train, X_test, y_train, y_test = train_test_split(X_combined, y, test_size=0.3, random_state=42)\n",
        "\n"
      ],
      "metadata": {
        "id": "hXLlcHWbx8VP"
      },
      "execution_count": 12,
      "outputs": []
    },
    {
      "cell_type": "code",
      "source": [
        "# Train a Random Forest Classifier\n",
        "rf_model = RandomForestClassifier(random_state=42)\n",
        "rf_model.fit(X_train, y_train)\n",
        "\n",
        "# Predict on the test set\n",
        "y_pred = rf_model.predict(X_test)\n",
        "\n",
        "# Evaluate the model\n",
        "accuracy = accuracy_score(y_test, y_pred)\n",
        "classification_rep = classification_report(y_test, y_pred)\n",
        "conf_matrix = confusion_matrix(y_test, y_pred)\n",
        "\n",
        "# Output results\n",
        "print(\"Accuracy:\", accuracy)\n",
        "print(\"\\nClassification Report:\\n\", classification_rep)\n",
        "print(\"\\nConfusion Matrix:\\n\", conf_matrix)\n"
      ],
      "metadata": {
        "colab": {
          "base_uri": "https://localhost:8080/"
        },
        "id": "agLgCeVJx_wt",
        "outputId": "6727df70-6b5d-4f4c-be31-7869804bf74a"
      },
      "execution_count": 13,
      "outputs": [
        {
          "output_type": "stream",
          "name": "stdout",
          "text": [
            "Accuracy: 0.7755555555555556\n",
            "\n",
            "Classification Report:\n",
            "               precision    recall  f1-score   support\n",
            "\n",
            "         6.0       0.97      0.95      0.96        91\n",
            "         7.0       0.78      0.88      0.83       214\n",
            "         8.0       0.62      0.74      0.68        34\n",
            "        10.0       0.20      0.50      0.29         2\n",
            "        11.0       0.69      0.50      0.58        18\n",
            "        12.0       0.50      0.25      0.33        24\n",
            "        13.0       0.67      0.40      0.50        10\n",
            "        14.0       0.00      0.00      0.00         1\n",
            "        15.0       0.60      0.43      0.50         7\n",
            "        16.0       0.45      0.71      0.56         7\n",
            "        17.0       0.50      0.50      0.50         2\n",
            "        18.0       1.00      0.75      0.86         8\n",
            "        19.0       0.86      0.86      0.86         7\n",
            "        20.0       1.00      0.60      0.75        10\n",
            "        21.0       0.25      0.33      0.29         3\n",
            "        22.0       0.00      0.00      0.00         1\n",
            "        23.0       0.00      0.00      0.00         4\n",
            "        24.0       0.50      0.14      0.22         7\n",
            "\n",
            "    accuracy                           0.78       450\n",
            "   macro avg       0.53      0.47      0.48       450\n",
            "weighted avg       0.77      0.78      0.76       450\n",
            "\n",
            "\n",
            "Confusion Matrix:\n",
            " [[ 86   5   0   0   0   0   0   0   0   0   0   0   0   0   0   0   0   0]\n",
            " [  2 189  10   0   2   2   0   0   1   2   1   0   1   0   3   0   0   1]\n",
            " [  0   3  25   0   0   2   0   0   0   4   0   0   0   0   0   0   0   0]\n",
            " [  0   0   0   1   0   0   0   0   0   0   0   0   0   0   0   0   1   0]\n",
            " [  1   7   0   0   9   0   0   0   1   0   0   0   0   0   0   0   0   0]\n",
            " [  0  15   1   0   1   6   1   0   0   0   0   0   0   0   0   0   0   0]\n",
            " [  0   4   1   0   0   1   4   0   0   0   0   0   0   0   0   0   0   0]\n",
            " [  0   1   0   0   0   0   0   0   0   0   0   0   0   0   0   0   0   0]\n",
            " [  0   2   1   0   0   0   1   0   3   0   0   0   0   0   0   0   0   0]\n",
            " [  0   0   2   0   0   0   0   0   0   5   0   0   0   0   0   0   0   0]\n",
            " [  0   1   0   0   0   0   0   0   0   0   1   0   0   0   0   0   0   0]\n",
            " [  0   2   0   0   0   0   0   0   0   0   0   6   0   0   0   0   0   0]\n",
            " [  0   0   0   0   1   0   0   0   0   0   0   0   6   0   0   0   0   0]\n",
            " [  0   4   0   0   0   0   0   0   0   0   0   0   0   6   0   0   0   0]\n",
            " [  0   2   0   0   0   0   0   0   0   0   0   0   0   0   1   0   0   0]\n",
            " [  0   1   0   0   0   0   0   0   0   0   0   0   0   0   0   0   0   0]\n",
            " [  0   0   0   4   0   0   0   0   0   0   0   0   0   0   0   0   0   0]\n",
            " [  0   5   0   0   0   1   0   0   0   0   0   0   0   0   0   0   0   1]]\n"
          ]
        },
        {
          "output_type": "stream",
          "name": "stderr",
          "text": [
            "/usr/local/lib/python3.10/dist-packages/sklearn/metrics/_classification.py:1471: UndefinedMetricWarning: Precision and F-score are ill-defined and being set to 0.0 in labels with no predicted samples. Use `zero_division` parameter to control this behavior.\n",
            "  _warn_prf(average, modifier, msg_start, len(result))\n",
            "/usr/local/lib/python3.10/dist-packages/sklearn/metrics/_classification.py:1471: UndefinedMetricWarning: Precision and F-score are ill-defined and being set to 0.0 in labels with no predicted samples. Use `zero_division` parameter to control this behavior.\n",
            "  _warn_prf(average, modifier, msg_start, len(result))\n",
            "/usr/local/lib/python3.10/dist-packages/sklearn/metrics/_classification.py:1471: UndefinedMetricWarning: Precision and F-score are ill-defined and being set to 0.0 in labels with no predicted samples. Use `zero_division` parameter to control this behavior.\n",
            "  _warn_prf(average, modifier, msg_start, len(result))\n"
          ]
        }
      ]
    },
    {
      "cell_type": "code",
      "source": [
        "from sklearn.linear_model import LogisticRegression\n",
        "\n",
        "\n",
        "# Train a Logistic Regression model\n",
        "lr_model = LogisticRegression(max_iter=1000, random_state=42)\n",
        "lr_model.fit(X_train, y_train)\n",
        "\n",
        "# Predict on the test set\n",
        "y_pred_lr = lr_model.predict(X_test)\n",
        "\n",
        "# Evaluate the Logistic Regression model\n",
        "accuracy_lr = accuracy_score(y_test, y_pred_lr)\n",
        "classification_rep_lr = classification_report(y_test, y_pred_lr)\n",
        "conf_matrix_lr = confusion_matrix(y_test, y_pred_lr)\n",
        "\n",
        "# Output results\n",
        "print(\"Logistic Regression Accuracy:\", accuracy_lr)\n",
        "print(\"\\nLogistic Regression Classification Report:\\n\", classification_rep_lr)\n",
        "print(\"\\nLogistic Regression Confusion Matrix:\\n\", conf_matrix_lr)\n"
      ],
      "metadata": {
        "colab": {
          "base_uri": "https://localhost:8080/"
        },
        "id": "NZHrl0rkyGI9",
        "outputId": "f8ad5eb3-72ec-48db-f5ae-77a4d098446f"
      },
      "execution_count": 14,
      "outputs": [
        {
          "output_type": "stream",
          "name": "stdout",
          "text": [
            "Logistic Regression Accuracy: 0.47555555555555556\n",
            "\n",
            "Logistic Regression Classification Report:\n",
            "               precision    recall  f1-score   support\n",
            "\n",
            "         6.0       0.00      0.00      0.00        91\n",
            "         7.0       0.48      1.00      0.64       214\n",
            "         8.0       0.00      0.00      0.00        34\n",
            "        10.0       0.00      0.00      0.00         2\n",
            "        11.0       0.00      0.00      0.00        18\n",
            "        12.0       0.00      0.00      0.00        24\n",
            "        13.0       0.00      0.00      0.00        10\n",
            "        14.0       0.00      0.00      0.00         1\n",
            "        15.0       0.00      0.00      0.00         7\n",
            "        16.0       0.00      0.00      0.00         7\n",
            "        17.0       0.00      0.00      0.00         2\n",
            "        18.0       0.00      0.00      0.00         8\n",
            "        19.0       0.00      0.00      0.00         7\n",
            "        20.0       0.00      0.00      0.00        10\n",
            "        21.0       0.00      0.00      0.00         3\n",
            "        22.0       0.00      0.00      0.00         1\n",
            "        23.0       0.00      0.00      0.00         4\n",
            "        24.0       0.00      0.00      0.00         7\n",
            "\n",
            "    accuracy                           0.48       450\n",
            "   macro avg       0.03      0.06      0.04       450\n",
            "weighted avg       0.23      0.48      0.31       450\n",
            "\n",
            "\n",
            "Logistic Regression Confusion Matrix:\n",
            " [[  0  91   0   0   0   0   0   0   0   0   0   0   0   0   0   0   0   0]\n",
            " [  0 214   0   0   0   0   0   0   0   0   0   0   0   0   0   0   0   0]\n",
            " [  0  34   0   0   0   0   0   0   0   0   0   0   0   0   0   0   0   0]\n",
            " [  0   2   0   0   0   0   0   0   0   0   0   0   0   0   0   0   0   0]\n",
            " [  0  18   0   0   0   0   0   0   0   0   0   0   0   0   0   0   0   0]\n",
            " [  0  24   0   0   0   0   0   0   0   0   0   0   0   0   0   0   0   0]\n",
            " [  0  10   0   0   0   0   0   0   0   0   0   0   0   0   0   0   0   0]\n",
            " [  0   1   0   0   0   0   0   0   0   0   0   0   0   0   0   0   0   0]\n",
            " [  0   7   0   0   0   0   0   0   0   0   0   0   0   0   0   0   0   0]\n",
            " [  0   7   0   0   0   0   0   0   0   0   0   0   0   0   0   0   0   0]\n",
            " [  0   2   0   0   0   0   0   0   0   0   0   0   0   0   0   0   0   0]\n",
            " [  0   8   0   0   0   0   0   0   0   0   0   0   0   0   0   0   0   0]\n",
            " [  0   7   0   0   0   0   0   0   0   0   0   0   0   0   0   0   0   0]\n",
            " [  0  10   0   0   0   0   0   0   0   0   0   0   0   0   0   0   0   0]\n",
            " [  0   3   0   0   0   0   0   0   0   0   0   0   0   0   0   0   0   0]\n",
            " [  0   1   0   0   0   0   0   0   0   0   0   0   0   0   0   0   0   0]\n",
            " [  0   4   0   0   0   0   0   0   0   0   0   0   0   0   0   0   0   0]\n",
            " [  0   7   0   0   0   0   0   0   0   0   0   0   0   0   0   0   0   0]]\n"
          ]
        },
        {
          "output_type": "stream",
          "name": "stderr",
          "text": [
            "/usr/local/lib/python3.10/dist-packages/sklearn/linear_model/_logistic.py:460: ConvergenceWarning: lbfgs failed to converge (status=2):\n",
            "ABNORMAL_TERMINATION_IN_LNSRCH.\n",
            "\n",
            "Increase the number of iterations (max_iter) or scale the data as shown in:\n",
            "    https://scikit-learn.org/stable/modules/preprocessing.html\n",
            "Please also refer to the documentation for alternative solver options:\n",
            "    https://scikit-learn.org/stable/modules/linear_model.html#logistic-regression\n",
            "  n_iter_i = _check_optimize_result(\n",
            "/usr/local/lib/python3.10/dist-packages/sklearn/metrics/_classification.py:1471: UndefinedMetricWarning: Precision and F-score are ill-defined and being set to 0.0 in labels with no predicted samples. Use `zero_division` parameter to control this behavior.\n",
            "  _warn_prf(average, modifier, msg_start, len(result))\n",
            "/usr/local/lib/python3.10/dist-packages/sklearn/metrics/_classification.py:1471: UndefinedMetricWarning: Precision and F-score are ill-defined and being set to 0.0 in labels with no predicted samples. Use `zero_division` parameter to control this behavior.\n",
            "  _warn_prf(average, modifier, msg_start, len(result))\n",
            "/usr/local/lib/python3.10/dist-packages/sklearn/metrics/_classification.py:1471: UndefinedMetricWarning: Precision and F-score are ill-defined and being set to 0.0 in labels with no predicted samples. Use `zero_division` parameter to control this behavior.\n",
            "  _warn_prf(average, modifier, msg_start, len(result))\n"
          ]
        }
      ]
    },
    {
      "cell_type": "code",
      "source": [
        "from sklearn.tree import DecisionTreeClassifier\n",
        "\n",
        "\n",
        "# Train a Decision Tree Classifier\n",
        "dt_model = DecisionTreeClassifier(random_state=42)\n",
        "dt_model.fit(X_train, y_train)\n",
        "\n",
        "# Predict on the test set\n",
        "y_pred_dt = dt_model.predict(X_test)\n",
        "\n",
        "# Evaluate the Decision Tree model\n",
        "accuracy_dt = accuracy_score(y_test, y_pred_dt)\n",
        "classification_rep_dt = classification_report(y_test, y_pred_dt)\n",
        "conf_matrix_dt = confusion_matrix(y_test, y_pred_dt)\n",
        "\n",
        "# Output results\n",
        "print(\"Decision Tree Accuracy:\", accuracy_dt)\n",
        "print(\"\\nDecision Tree Classification Report:\\n\", classification_rep_dt)\n",
        "print(\"\\nDecision Tree Confusion Matrix:\\n\", conf_matrix_dt)\n"
      ],
      "metadata": {
        "colab": {
          "base_uri": "https://localhost:8080/"
        },
        "id": "zxmXvpUWypRb",
        "outputId": "48a5a81d-70a0-45ad-a391-85878cce6cc0"
      },
      "execution_count": 15,
      "outputs": [
        {
          "output_type": "stream",
          "name": "stdout",
          "text": [
            "Decision Tree Accuracy: 0.7555555555555555\n",
            "\n",
            "Decision Tree Classification Report:\n",
            "               precision    recall  f1-score   support\n",
            "\n",
            "         6.0       0.95      0.91      0.93        91\n",
            "         7.0       0.78      0.87      0.82       214\n",
            "         8.0       0.64      0.68      0.66        34\n",
            "        10.0       0.20      0.50      0.29         2\n",
            "        11.0       0.73      0.44      0.55        18\n",
            "        12.0       0.40      0.25      0.31        24\n",
            "        13.0       0.60      0.30      0.40        10\n",
            "        14.0       0.00      0.00      0.00         1\n",
            "        15.0       0.80      0.57      0.67         7\n",
            "        16.0       0.38      0.71      0.50         7\n",
            "        17.0       0.50      0.50      0.50         2\n",
            "        18.0       0.86      0.75      0.80         8\n",
            "        19.0       0.67      0.86      0.75         7\n",
            "        20.0       0.86      0.60      0.71        10\n",
            "        21.0       0.25      0.33      0.29         3\n",
            "        22.0       0.00      0.00      0.00         1\n",
            "        23.0       0.00      0.00      0.00         4\n",
            "        24.0       0.33      0.14      0.20         7\n",
            "\n",
            "    accuracy                           0.76       450\n",
            "   macro avg       0.50      0.47      0.46       450\n",
            "weighted avg       0.75      0.76      0.74       450\n",
            "\n",
            "\n",
            "Decision Tree Confusion Matrix:\n",
            " [[ 83   7   0   0   0   1   0   0   0   0   0   0   0   0   0   0   0   0]\n",
            " [  2 186   7   0   1   3   1   0   0   4   1   1   3   1   3   0   0   1]\n",
            " [  0   4  23   0   0   4   0   0   0   3   0   0   0   0   0   0   0   0]\n",
            " [  0   0   0   1   0   0   0   0   0   0   0   0   0   0   0   0   1   0]\n",
            " [  2   7   0   0   8   0   0   0   1   0   0   0   0   0   0   0   0   0]\n",
            " [  0  14   1   0   1   6   1   0   0   0   0   0   0   0   0   0   0   1]\n",
            " [  0   3   2   0   0   1   3   0   0   1   0   0   0   0   0   0   0   0]\n",
            " [  0   1   0   0   0   0   0   0   0   0   0   0   0   0   0   0   0   0]\n",
            " [  0   2   1   0   0   0   0   0   4   0   0   0   0   0   0   0   0   0]\n",
            " [  0   0   2   0   0   0   0   0   0   5   0   0   0   0   0   0   0   0]\n",
            " [  0   1   0   0   0   0   0   0   0   0   1   0   0   0   0   0   0   0]\n",
            " [  0   2   0   0   0   0   0   0   0   0   0   6   0   0   0   0   0   0]\n",
            " [  0   0   0   0   1   0   0   0   0   0   0   0   6   0   0   0   0   0]\n",
            " [  0   4   0   0   0   0   0   0   0   0   0   0   0   6   0   0   0   0]\n",
            " [  0   2   0   0   0   0   0   0   0   0   0   0   0   0   1   0   0   0]\n",
            " [  0   1   0   0   0   0   0   0   0   0   0   0   0   0   0   0   0   0]\n",
            " [  0   0   0   4   0   0   0   0   0   0   0   0   0   0   0   0   0   0]\n",
            " [  0   6   0   0   0   0   0   0   0   0   0   0   0   0   0   0   0   1]]\n"
          ]
        },
        {
          "output_type": "stream",
          "name": "stderr",
          "text": [
            "/usr/local/lib/python3.10/dist-packages/sklearn/metrics/_classification.py:1471: UndefinedMetricWarning: Precision and F-score are ill-defined and being set to 0.0 in labels with no predicted samples. Use `zero_division` parameter to control this behavior.\n",
            "  _warn_prf(average, modifier, msg_start, len(result))\n",
            "/usr/local/lib/python3.10/dist-packages/sklearn/metrics/_classification.py:1471: UndefinedMetricWarning: Precision and F-score are ill-defined and being set to 0.0 in labels with no predicted samples. Use `zero_division` parameter to control this behavior.\n",
            "  _warn_prf(average, modifier, msg_start, len(result))\n",
            "/usr/local/lib/python3.10/dist-packages/sklearn/metrics/_classification.py:1471: UndefinedMetricWarning: Precision and F-score are ill-defined and being set to 0.0 in labels with no predicted samples. Use `zero_division` parameter to control this behavior.\n",
            "  _warn_prf(average, modifier, msg_start, len(result))\n"
          ]
        }
      ]
    },
    {
      "cell_type": "code",
      "source": [],
      "metadata": {
        "id": "E901xXeZy1bO"
      },
      "execution_count": null,
      "outputs": []
    }
  ]
}